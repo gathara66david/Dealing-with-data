{
 "cells": [
  {
   "cell_type": "code",
   "execution_count": 1,
   "metadata": {},
   "outputs": [
    {
     "name": "stdout",
     "output_type": "stream",
     "text": [
      "[('12-1-2020', 'Practical Data Science With Python', 19.99, 1), ('12-15-2020', 'Python Machine Learning', 27.99, 1), ('12-17-2020', 'Machine Learning For Algorithmic Trading', 34.99, 1)]\n"
     ]
    }
   ],
   "source": [
    "book_data = [('12-1-2020', 'Practical Data Science With Python', 19.99,1), ('12-15-2020', 'Python Machine Learning', 27.99, 1), ('12-17-2020', 'Machine Learning For Algorithmic Trading', 34.99, 1)]\n",
    "print(book_data)\n"
   ]
  },
  {
   "cell_type": "code",
   "execution_count": 2,
   "metadata": {},
   "outputs": [],
   "source": [
    "import sqlite3"
   ]
  },
  {
   "cell_type": "code",
   "execution_count": 3,
   "metadata": {},
   "outputs": [],
   "source": [
    "connection = sqlite3.connect(r\"C:\\Users\\David gathara marigi\\Downloads\\book_sales.db\")\n",
    "cursor = connection.cursor()"
   ]
  },
  {
   "cell_type": "code",
   "execution_count": 4,
   "metadata": {},
   "outputs": [],
   "source": [
    "cursor.execute(\"INSERT INTO book_sales VALUES (?,?,?,?)\", book_data[0])\n",
    "connection.commit()"
   ]
  },
  {
   "cell_type": "code",
   "execution_count": 5,
   "metadata": {},
   "outputs": [
    {
     "data": {
      "text/plain": [
       "[('12-1-2020', 'Practical Data Science With Python', 19.99, 1.0),\n",
       " ('12-15-2020', 'Python Machine Learning', 27.99, 1.0),\n",
       " ('12-17-2020', 'Machine Learning For Algorithmic Trading', 34.99, 1.0),\n",
       " (None, 'machine learining', 10.99, None),\n",
       " ('12-1-2020', 'Practical Data Science With Python', 19.99, 1.0),\n",
       " ('12-15-2020', 'Python Machine Learning', 27.99, 1.0),\n",
       " ('12-17-2020', 'Machine Learning For Algorithmic Trading', 34.99, 1.0),\n",
       " ('12-15-2020', 'Python Machine Learning', 27.99, 1.0),\n",
       " ('12-17-2020', 'Machine Learning For Algorithmic Trading', 34.99, 1.0),\n",
       " ('12-1-2020', 'Practical Data Science With Python', 19.99, 1.0)]"
      ]
     },
     "execution_count": 5,
     "metadata": {},
     "output_type": "execute_result"
    }
   ],
   "source": [
    "cursor.execute('SELECT * FROM book_sales')\n",
    "cursor.fetchall()"
   ]
  },
  {
   "cell_type": "code",
   "execution_count": 6,
   "metadata": {},
   "outputs": [],
   "source": [
    "connection = sqlite3.connect(r\"C:\\Users\\David gathara marigi\\Downloads\\book_sales.db\")\n",
    "cursor = connection.cursor()\n",
    "cursor.executemany('INSERT INTO book_sales VALUES (?, ?, ?, ?)', book_data[1:])\n",
    "connection.commit()"
   ]
  },
  {
   "cell_type": "code",
   "execution_count": 7,
   "metadata": {},
   "outputs": [],
   "source": [
    "connection.close()"
   ]
  }
 ],
 "metadata": {
  "kernelspec": {
   "display_name": "Python 3",
   "language": "python",
   "name": "python3"
  },
  "language_info": {
   "codemirror_mode": {
    "name": "ipython",
    "version": 3
   },
   "file_extension": ".py",
   "mimetype": "text/x-python",
   "name": "python",
   "nbconvert_exporter": "python",
   "pygments_lexer": "ipython3",
   "version": "3.11.9"
  }
 },
 "nbformat": 4,
 "nbformat_minor": 2
}
