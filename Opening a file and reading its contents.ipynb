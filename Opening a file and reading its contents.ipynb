{
 "cells": [
  {
   "cell_type": "code",
   "execution_count": 1,
   "metadata": {},
   "outputs": [
    {
     "name": "stdout",
     "output_type": "stream",
     "text": [
      "['This is a text file.\\n', 'Now you can read it!']\n"
     ]
    }
   ],
   "source": [
    "file = open(r\"C:/Users/David gathara marigi/Downloads/textfile.txt\")\n",
    "text = file.readlines()\n",
    "print(text)\n",
    "file.close()"
   ]
  },
  {
   "cell_type": "code",
   "execution_count": 2,
   "metadata": {},
   "outputs": [
    {
     "name": "stdout",
     "output_type": "stream",
     "text": [
      "['This is a text file.\\n', 'Now you can read it!']\n"
     ]
    }
   ],
   "source": [
    "# this is a better way to open a file\n",
    "with open(r'C:/Users/David gathara marigi/Downloads/textfile.txt') as file:\n",
    "    text = file.readlines()\n",
    "    print(text)"
   ]
  },
  {
   "cell_type": "code",
   "execution_count": 3,
   "metadata": {},
   "outputs": [
    {
     "name": "stdout",
     "output_type": "stream",
     "text": [
      "This is a text file.\n",
      "Now you can read it!\n"
     ]
    }
   ],
   "source": [
    "#to read the entire file at once\n",
    "with open(r\"C:/Users/David gathara marigi/Downloads/textfile.txt\") as file:\n",
    "    text = file.read()\n",
    "    print(text)"
   ]
  },
  {
   "cell_type": "code",
   "execution_count": 4,
   "metadata": {},
   "outputs": [],
   "source": [
    "# Open the file in write mode ('w') which will overwrite its current contents.\n",
    "with open(r\"C:\\Users\\David gathara marigi\\Downloads\\writetest.txt\", mode='w') as file:\n",
    "    # Write \"Hello, world!\" to the file.\n",
    "    file.write(\"Hello, world!\")"
   ]
  },
  {
   "cell_type": "code",
   "execution_count": 5,
   "metadata": {},
   "outputs": [
    {
     "name": "stdout",
     "output_type": "stream",
     "text": [
      "13\n"
     ]
    }
   ],
   "source": [
    "# Open the file in append mode ('a') so that we add new content without overwriting existing data.\n",
    "with open(r\"C:\\Users\\David gathara marigi\\Downloads\\writetest.txt\", mode='a') as file:\n",
    "    # Write \"Hello, world!\" to the file and store the number of characters written in 'additional_text'.\n",
    "    additional_text = file.write(\"Hello, world!\")\n",
    "    # Print the number of characters that were added.\n",
    "    print(additional_text)\n",
    "    \n",
    "    \n",
    "    \n",
    "    \n",
    "    "
   ]
  }
 ],
 "metadata": {
  "kernelspec": {
   "display_name": "Python 3",
   "language": "python",
   "name": "python3"
  },
  "language_info": {
   "codemirror_mode": {
    "name": "ipython",
    "version": 3
   },
   "file_extension": ".py",
   "mimetype": "text/x-python",
   "name": "python",
   "nbconvert_exporter": "python",
   "pygments_lexer": "ipython3",
   "version": "3.11.9"
  }
 },
 "nbformat": 4,
 "nbformat_minor": 2
}
