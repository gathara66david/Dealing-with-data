{
 "cells": [
  {
   "cell_type": "code",
   "execution_count": 1,
   "metadata": {},
   "outputs": [
    {
     "name": "stdout",
     "output_type": "stream",
     "text": [
      "{'books': 12, 'articles': 100, 'subjects': ['math', 'programming', 'data science']}\n"
     ]
    }
   ],
   "source": [
    "data_dictionary = { 'books': 12, 'articles': 100, 'subjects': ['math', 'programming', 'data science']}\n",
    "print(data_dictionary)"
   ]
  },
  {
   "cell_type": "code",
   "execution_count": 2,
   "metadata": {},
   "outputs": [
    {
     "name": "stdout",
     "output_type": "stream",
     "text": [
      "{\"books\": 12, \"articles\": 100, \"subjects\": [\"math\", \"programming\", \"data science\"]}\n"
     ]
    }
   ],
   "source": [
    "#to convert this dictionary into JSON format string\n",
    "import json\n",
    "data_json = json.dumps(data_dictionary)\n",
    "print(data_json)"
   ]
  },
  {
   "cell_type": "code",
   "execution_count": 3,
   "metadata": {},
   "outputs": [
    {
     "name": "stdout",
     "output_type": "stream",
     "text": [
      "{'books': 12, 'articles': 100, 'subjects': ['math', 'programming', 'data science']}\n"
     ]
    }
   ],
   "source": [
    "# to convert JSON string back to dictionary\n",
    "data_dict = json.loads(data_json)\n",
    "print(data_dict)"
   ]
  },
  {
   "cell_type": "code",
   "execution_count": 4,
   "metadata": {},
   "outputs": [],
   "source": [
    "# to save JSON data to a text file\n",
    "# Write the JSON data to a file named \"data.json\"\n",
    "with open('data.json', 'w') as f:\n",
    "    json.dump(data_dictionary, f)"
   ]
  },
  {
   "cell_type": "code",
   "execution_count": 5,
   "metadata": {},
   "outputs": [
    {
     "name": "stdout",
     "output_type": "stream",
     "text": [
      "{'books': 12, 'articles': 100, 'subjects': ['math', 'programming', 'data science']}\n"
     ]
    }
   ],
   "source": [
    "# to read JSON data from a file\n",
    "# Open the file \"data.json\" in read mode.\n",
    "with open('data.json', 'r') as f:\n",
    "    # Load the JSON data from the file and convert it to a Python dictionary.\n",
    "    data = json.load(f)\n",
    "    \n",
    "# Print the resulting dictionary to verify the contents.\n",
    "print(data)\n"
   ]
  }
 ],
 "metadata": {
  "kernelspec": {
   "display_name": "Python 3",
   "language": "python",
   "name": "python3"
  },
  "language_info": {
   "codemirror_mode": {
    "name": "ipython",
    "version": 3
   },
   "file_extension": ".py",
   "mimetype": "text/x-python",
   "name": "python",
   "nbconvert_exporter": "python",
   "pygments_lexer": "ipython3",
   "version": "3.11.9"
  }
 },
 "nbformat": 4,
 "nbformat_minor": 2
}
