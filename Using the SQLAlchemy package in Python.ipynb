{
 "cells": [
  {
   "cell_type": "code",
   "execution_count": 1,
   "metadata": {},
   "outputs": [],
   "source": [
    "from sqlalchemy import create_engine"
   ]
  },
  {
   "cell_type": "code",
   "execution_count": 7,
   "metadata": {},
   "outputs": [],
   "source": [
    "engine = create_engine(r\"sqlite:///C:\\Users\\David gathara marigi\\Downloads\\book_sales.db\")\n",
    "connection = engine.connect()"
   ]
  },
  {
   "cell_type": "code",
   "execution_count": 13,
   "metadata": {},
   "outputs": [],
   "source": [
    "from sqlalchemy import text\n",
    "results = connection.execute(text(\"select * from book_sales\"))"
   ]
  },
  {
   "cell_type": "code",
   "execution_count": 16,
   "metadata": {},
   "outputs": [],
   "source": [
    "for row in results:\n",
    "    print(row['date'])"
   ]
  },
  {
   "cell_type": "code",
   "execution_count": 17,
   "metadata": {},
   "outputs": [],
   "source": [
    "connection.close()"
   ]
  },
  {
   "cell_type": "code",
   "execution_count": 19,
   "metadata": {},
   "outputs": [
    {
     "name": "stdout",
     "output_type": "stream",
     "text": [
      "('12-1-2020', 'Practical Data Science With Python', 19.99, 1.0)\n",
      "('12-15-2020', 'Python Machine Learning', 27.99, 1.0)\n",
      "('12-17-2020', 'Machine Learning For Algorithmic Trading', 34.99, 1.0)\n",
      "(None, 'machine learining', 10.99, None)\n",
      "('12-1-2020', 'Practical Data Science With Python', 19.99, 1.0)\n",
      "('12-15-2020', 'Python Machine Learning', 27.99, 1.0)\n",
      "('12-17-2020', 'Machine Learning For Algorithmic Trading', 34.99, 1.0)\n",
      "('12-15-2020', 'Python Machine Learning', 27.99, 1.0)\n",
      "('12-17-2020', 'Machine Learning For Algorithmic Trading', 34.99, 1.0)\n"
     ]
    }
   ],
   "source": [
    "with engine.connect() as connection:\n",
    "    result = connection.execute(text(\"select * from book_sales\"))\n",
    "    for row in result:\n",
    "        print(row)"
   ]
  },
  {
   "cell_type": "code",
   "execution_count": 21,
   "metadata": {},
   "outputs": [],
   "source": [
    "from sqlalchemy import MetaData, Table\n",
    "from sqlalchemy.sql import select "
   ]
  },
  {
   "cell_type": "code",
   "execution_count": 26,
   "metadata": {},
   "outputs": [
    {
     "data": {
      "text/plain": [
       "<sqlalchemy.engine.cursor.CursorResult at 0x1e0ff61f0e0>"
      ]
     },
     "execution_count": 26,
     "metadata": {},
     "output_type": "execute_result"
    }
   ],
   "source": [
    "metadata = MetaData()\n",
    "book_sales = Table('book_sales', metadata, autoload_with=engine)\n",
    "conn = engine.connect()\n",
    "ins = book_sales.insert().values(book_title='machine learning', price='10.99')\n",
    "conn.execute(ins)\n"
   ]
  }
 ],
 "metadata": {
  "kernelspec": {
   "display_name": "Python 3",
   "language": "python",
   "name": "python3"
  },
  "language_info": {
   "codemirror_mode": {
    "name": "ipython",
    "version": 3
   },
   "file_extension": ".py",
   "mimetype": "text/x-python",
   "name": "python",
   "nbconvert_exporter": "python",
   "pygments_lexer": "ipython3",
   "version": "3.11.9"
  }
 },
 "nbformat": 4,
 "nbformat_minor": 2
}
