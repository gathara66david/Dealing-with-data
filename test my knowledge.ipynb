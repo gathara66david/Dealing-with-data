{
 "cells": [
  {
   "cell_type": "code",
   "execution_count": 2,
   "metadata": {},
   "outputs": [],
   "source": [
    "import json"
   ]
  },
  {
   "cell_type": "code",
   "execution_count": 3,
   "metadata": {},
   "outputs": [],
   "source": [
    "# load a json file\n",
    "with open(r\"C:\\Users\\David gathara marigi\\Downloads\\bitcoin_price.json\") as f:\n",
    "    data = json.load(f)"
   ]
  },
  {
   "cell_type": "code",
   "execution_count": 4,
   "metadata": {},
   "outputs": [],
   "source": [
    "# save the data into sqlite database\n",
    "import sqlite3\n",
    "\n",
    "# connect to (or create) the SQLite database\n",
    "conn = sqlite3.connect(\"bitcoin_data.db\")\n",
    "cursor = conn.cursor()\n",
    "\n",
    "# create a table to store bitcoin pricing data\n",
    "cursor.execute(\"\"\"\n",
    "    CREATE TABLE IF NOT EXISTS bitcoin_data (\n",
    "        symbol TEXT,\n",
    "        time INTEGER,\n",
    "        open REAL,\n",
    "        close REAL,\n",
    "        high REAL,\n",
    "        low REAL,\n",
    "        volume REAL\n",
    "    )\n",
    "\"\"\")\n",
    "\n",
    "# insert the data from the JSON loaded 'data' variable\n",
    "cursor.executemany(\"\"\"\n",
    "    INSERT INTO bitcoin_data (symbol, time, open, close, high, low, volume)\n",
    "    VALUES (?, ?, ?, ?, ?, ?, ?)\n",
    "\"\"\", [(item[\"symbol\"], item[\"time\"], item[\"open\"], item[\"close\"], item[\"high\"], item[\"low\"], item[\"volume\"]) for item in data])\n",
    "\n",
    "# save (commit) the changes and close the connection\n",
    "conn.commit()\n",
    "conn.close()\n"
   ]
  },
  {
   "cell_type": "code",
   "execution_count": 5,
   "metadata": {},
   "outputs": [
    {
     "name": "stdout",
     "output_type": "stream",
     "text": [
      "Earliest timestamp: 1364688000000\n",
      "Latest timestamp: 1606521600000\n",
      "Earliest date: 2013-03-31 03:00:00\n",
      "Latest date: 2020-11-28 03:00:00\n",
      "Maximum price for each year:\n",
      "2013: 1175.0\n",
      "2014: 995.0\n",
      "2015: 504.0\n",
      "2016: 983.0\n",
      "2017: 19891.0\n",
      "2018: 17252.0\n",
      "2019: 13764.0\n",
      "2020: 19497.0\n"
     ]
    }
   ],
   "source": [
    "import datetime\n",
    "import sqlite3\n",
    "conn = sqlite3.connect(\"bitcoin_data.db\")\n",
    "cursor = conn.cursor()\n",
    "\n",
    "# Query 1: Get the earliest and latest timestamps\n",
    "result = cursor.execute(\"SELECT MIN(time) as earliest, MAX(time) as latest FROM bitcoin_data\").fetchone()\n",
    "print(\"Earliest timestamp:\", result[0])\n",
    "print(\"Latest timestamp:\", result[1])\n",
    "\n",
    "# Optionally, convert timestamps from milliseconds to human-readable dates\n",
    "earliest_date = datetime.datetime.fromtimestamp(result[0] / 1000)\n",
    "latest_date = datetime.datetime.fromtimestamp(result[1] / 1000)\n",
    "print(\"Earliest date:\", earliest_date)\n",
    "print(\"Latest date:\", latest_date)\n",
    "\n",
    "# Query 2: Get maximum high price for each year grouped and sorted by year\n",
    "query = \"\"\"\n",
    "SELECT \n",
    "    strftime('%Y', datetime(time/1000, 'unixepoch')) AS year, \n",
    "    MAX(high) AS max_price\n",
    "FROM bitcoin_data\n",
    "GROUP BY year\n",
    "ORDER BY year;\n",
    "\"\"\"\n",
    "yearly_max = cursor.execute(query).fetchall()\n",
    "print(\"Maximum price for each year:\")\n",
    "for year, price in yearly_max:\n",
    "    print(f\"{year}: {price}\")"
   ]
  },
  {
   "cell_type": "code",
   "execution_count": 6,
   "metadata": {},
   "outputs": [
    {
     "name": "stdout",
     "output_type": "stream",
     "text": [
      "Connected to chinook.db\n"
     ]
    }
   ],
   "source": [
    "from sqlalchemy import create_engine\n",
    "\n",
    "engine = create_engine(\"sqlite:///chinook.db\")\n",
    "conn_engine = engine.connect()\n",
    "print(\"Connected to chinook.db\")"
   ]
  },
  {
   "cell_type": "code",
   "execution_count": 7,
   "metadata": {},
   "outputs": [
    {
     "name": "stdout",
     "output_type": "stream",
     "text": [
      "Error executing query. Please ensure that your chinook.db file contains the Genre and Track tables.\n",
      "(sqlite3.OperationalError) no such table: Genre\n",
      "[SQL: \n",
      "SELECT \n",
      "    g.Name AS genre, \n",
      "    AVG(t.Milliseconds) AS avg_length\n",
      "FROM Genre g\n",
      "JOIN Track t ON g.GenreId = t.GenreId\n",
      "GROUP BY g.Name\n",
      "ORDER BY avg_length DESC;\n",
      "]\n",
      "(Background on this error at: https://sqlalche.me/e/20/e3q8)\n"
     ]
    }
   ],
   "source": [
    "# Ensure you are using the correct Chinook database that includes the Genre and Track tables.\n",
    "# If you haven't already, download the Chinook sample database from:\n",
    "# https://github.com/lerocha/chinook-database and set the correct file path for chinook.db.\n",
    "query_genre = \"\"\"\n",
    "SELECT \n",
    "    g.Name AS genre, \n",
    "    AVG(t.Milliseconds) AS avg_length\n",
    "FROM Genre g\n",
    "JOIN Track t ON g.GenreId = t.GenreId\n",
    "GROUP BY g.Name\n",
    "ORDER BY avg_length DESC;\n",
    "\"\"\"\n",
    "from sqlalchemy import text\n",
    "try:\n",
    "    result_genre = conn_engine.execute(text(query_genre)).fetchall()\n",
    "    for genre, avg_length in result_genre:\n",
    "        print(f\"Genre: {genre}, Average Length: {avg_length:.2f} milliseconds\")\n",
    "except Exception as e:\n",
    "    print(\"Error executing query. Please ensure that your chinook.db file contains the Genre and Track tables.\")\n",
    "    print(e)"
   ]
  }
 ],
 "metadata": {
  "kernelspec": {
   "display_name": "Python 3",
   "language": "python",
   "name": "python3"
  },
  "language_info": {
   "codemirror_mode": {
    "name": "ipython",
    "version": 3
   },
   "file_extension": ".py",
   "mimetype": "text/x-python",
   "name": "python",
   "nbconvert_exporter": "python",
   "pygments_lexer": "ipython3",
   "version": "3.11.9"
  }
 },
 "nbformat": 4,
 "nbformat_minor": 2
}
